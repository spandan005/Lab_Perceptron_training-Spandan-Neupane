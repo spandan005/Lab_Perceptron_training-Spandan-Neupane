{
  "nbformat": 4,
  "nbformat_minor": 0,
  "metadata": {
    "colab": {
      "provenance": [],
      "authorship_tag": "ABX9TyOUCBaiQam1miiq4Jqnipew",
      "include_colab_link": true
    },
    "kernelspec": {
      "name": "python3",
      "display_name": "Python 3"
    },
    "language_info": {
      "name": "python"
    }
  },
  "cells": [
    {
      "cell_type": "markdown",
      "metadata": {
        "id": "view-in-github",
        "colab_type": "text"
      },
      "source": [
        "<a href=\"https://colab.research.google.com/github/spandan005/Lab_Perceptron_training-Spandan-Neupane/blob/main/perceptron.ipynb\" target=\"_parent\"><img src=\"https://colab.research.google.com/assets/colab-badge.svg\" alt=\"Open In Colab\"/></a>"
      ]
    },
    {
      "cell_type": "code",
      "execution_count": 1,
      "metadata": {
        "id": "8AVJ4WQnd01Q"
      },
      "outputs": [],
      "source": [
        "def threshold(inp, th):\n",
        "    return 1 if inp >= th else 0"
      ]
    },
    {
      "cell_type": "code",
      "source": [
        "ds = [\n",
        "    [0, 0, 0],\n",
        "    [0, 1, 0],\n",
        "    [1, 0, 0],\n",
        "    [1, 1, 1]\n",
        "]\n",
        "lr = 0.1\n",
        "th = 0.5\n",
        "w = [0.6, 0.7]\n",
        "epoch = 0"
      ],
      "metadata": {
        "id": "7k9yGgOVd47I"
      },
      "execution_count": 2,
      "outputs": []
    },
    {
      "cell_type": "code",
      "source": [
        "while True:\n",
        "    tf = False\n",
        "    epoch += 1\n",
        "    print(f\"EPOCH: {epoch}\")\n",
        "    print(\"W1\\tW2\\tX1\\tX2\\tTg\\tY\\tError\\tdW1\\tdW2\\tNewW1\\tNewW2\")\n",
        "    for x1, x2, target in ds:\n",
        "        inp = x1 * w[0] + x2 * w[1]\n",
        "        y = threshold(inp, th)\n",
        "        err = target - y\n",
        "\n",
        "        if err != 0:\n",
        "            tf = True\n",
        "        dw1 = lr * x1 * err\n",
        "        dw2 = lr * x2 * err\n",
        "        print(f\"{w[0]:.2f}\\t{w[1]:.2f}\\t{x1}\\t{x2}\\t{target}\\t{y}\\t{err:.2f}\\t{dw1:.2f}\\t{dw2:.2f}\", end=\"\\t\")\n",
        "        w[0] += dw1\n",
        "        w[1] += dw2\n",
        "        print(f\"{w[0]:.2f}\\t{w[1]:.2f}\")\n",
        "    print(\"--------------------------------------------------------------------------------------------------\" )\n",
        "    if not tf:\n",
        "        break\n",
        "print(f\"Training Complete after {epoch} epochs.\")"
      ],
      "metadata": {
        "colab": {
          "base_uri": "https://localhost:8080/"
        },
        "id": "damovx9Rd7tB",
        "outputId": "e4dece83-5561-40ea-de85-293b47ec2265"
      },
      "execution_count": 3,
      "outputs": [
        {
          "output_type": "stream",
          "name": "stdout",
          "text": [
            "EPOCH: 1\n",
            "W1\tW2\tX1\tX2\tTg\tY\tError\tdW1\tdW2\tNewW1\tNewW2\n",
            "0.60\t0.70\t0\t0\t0\t0\t0.00\t0.00\t0.00\t0.60\t0.70\n",
            "0.60\t0.70\t0\t1\t0\t1\t-1.00\t-0.00\t-0.10\t0.60\t0.60\n",
            "0.60\t0.60\t1\t0\t0\t1\t-1.00\t-0.10\t-0.00\t0.50\t0.60\n",
            "0.50\t0.60\t1\t1\t1\t1\t0.00\t0.00\t0.00\t0.50\t0.60\n",
            "--------------------------------------------------------------------------------------------------\n",
            "EPOCH: 2\n",
            "W1\tW2\tX1\tX2\tTg\tY\tError\tdW1\tdW2\tNewW1\tNewW2\n",
            "0.50\t0.60\t0\t0\t0\t0\t0.00\t0.00\t0.00\t0.50\t0.60\n",
            "0.50\t0.60\t0\t1\t0\t1\t-1.00\t-0.00\t-0.10\t0.50\t0.50\n",
            "0.50\t0.50\t1\t0\t0\t1\t-1.00\t-0.10\t-0.00\t0.40\t0.50\n",
            "0.40\t0.50\t1\t1\t1\t1\t0.00\t0.00\t0.00\t0.40\t0.50\n",
            "--------------------------------------------------------------------------------------------------\n",
            "EPOCH: 3\n",
            "W1\tW2\tX1\tX2\tTg\tY\tError\tdW1\tdW2\tNewW1\tNewW2\n",
            "0.40\t0.50\t0\t0\t0\t0\t0.00\t0.00\t0.00\t0.40\t0.50\n",
            "0.40\t0.50\t0\t1\t0\t1\t-1.00\t-0.00\t-0.10\t0.40\t0.40\n",
            "0.40\t0.40\t1\t0\t0\t0\t0.00\t0.00\t0.00\t0.40\t0.40\n",
            "0.40\t0.40\t1\t1\t1\t1\t0.00\t0.00\t0.00\t0.40\t0.40\n",
            "--------------------------------------------------------------------------------------------------\n",
            "EPOCH: 4\n",
            "W1\tW2\tX1\tX2\tTg\tY\tError\tdW1\tdW2\tNewW1\tNewW2\n",
            "0.40\t0.40\t0\t0\t0\t0\t0.00\t0.00\t0.00\t0.40\t0.40\n",
            "0.40\t0.40\t0\t1\t0\t0\t0.00\t0.00\t0.00\t0.40\t0.40\n",
            "0.40\t0.40\t1\t0\t0\t0\t0.00\t0.00\t0.00\t0.40\t0.40\n",
            "0.40\t0.40\t1\t1\t1\t1\t0.00\t0.00\t0.00\t0.40\t0.40\n",
            "--------------------------------------------------------------------------------------------------\n",
            "Training Complete after 4 epochs.\n"
          ]
        }
      ]
    },
    {
      "cell_type": "code",
      "source": [],
      "metadata": {
        "id": "N-KWOIZ0d-EB"
      },
      "execution_count": 3,
      "outputs": []
    }
  ]
}